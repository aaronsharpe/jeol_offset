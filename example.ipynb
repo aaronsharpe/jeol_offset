{
 "cells": [
  {
   "cell_type": "markdown",
   "metadata": {
    "toc": "true"
   },
   "source": [
    "# Table of Contents\n",
    " <p>"
   ]
  },
  {
   "cell_type": "code",
   "execution_count": 1,
   "metadata": {
    "ExecuteTime": {
     "end_time": "2019-09-18T05:16:02.943467Z",
     "start_time": "2019-09-18T05:16:02.924428Z"
    }
   },
   "outputs": [],
   "source": [
    "from jeol_offset import compute_offset"
   ]
  },
  {
   "cell_type": "code",
   "execution_count": 2,
   "metadata": {
    "ExecuteTime": {
     "end_time": "2019-09-18T05:16:13.608077Z",
     "start_time": "2019-09-18T05:16:02.953112Z"
    },
    "scrolled": false
   },
   "outputs": [
    {
     "name": "stdout",
     "output_type": "stream",
     "text": [
      "JEOL offset calculator\n",
      "Enter letters (top then bottom): SA\n",
      "Pattern origin relative to AA (x,y): 2500,2500\n",
      "Current stage position (x,y): -3811.9,2294.\n",
      "Offset: -1311.900,294.000\n"
     ]
    }
   ],
   "source": [
    "compute_offset();"
   ]
  },
  {
   "cell_type": "code",
   "execution_count": 3,
   "metadata": {
    "ExecuteTime": {
     "end_time": "2019-09-18T05:28:05.708263Z",
     "start_time": "2019-09-18T05:19:59.804737Z"
    }
   },
   "outputs": [
    {
     "name": "stdout",
     "output_type": "stream",
     "text": [
      "JEOL offset calculator\n",
      "Enter letters (top then bottom): IA\n",
      "Pattern origin relative to AA (x,y): 2500,2500\n",
      "Current stage position (x,y): -4017.7,-597.8\n",
      "Offset: -1517.700,-97.800\n"
     ]
    }
   ],
   "source": [
    "compute_offset();"
   ]
  },
  {
   "cell_type": "code",
   "execution_count": null,
   "metadata": {},
   "outputs": [],
   "source": []
  }
 ],
 "metadata": {
  "kernelspec": {
   "display_name": "Python 3",
   "language": "python",
   "name": "python3"
  },
  "language_info": {
   "codemirror_mode": {
    "name": "ipython",
    "version": 3
   },
   "file_extension": ".py",
   "mimetype": "text/x-python",
   "name": "python",
   "nbconvert_exporter": "python",
   "pygments_lexer": "ipython3",
   "version": "3.7.3"
  },
  "toc": {
   "colors": {
    "hover_highlight": "#DAA520",
    "navigate_num": "#000000",
    "navigate_text": "#333333",
    "running_highlight": "#FF0000",
    "selected_highlight": "#FFD700",
    "sidebar_border": "#EEEEEE",
    "wrapper_background": "#FFFFFF"
   },
   "moveMenuLeft": true,
   "nav_menu": {
    "height": "11.8px",
    "width": "251.8px"
   },
   "navigate_menu": true,
   "number_sections": true,
   "sideBar": true,
   "threshold": 4,
   "toc_cell": true,
   "toc_section_display": "block",
   "toc_window_display": true,
   "widenNotebook": false
  }
 },
 "nbformat": 4,
 "nbformat_minor": 2
}
